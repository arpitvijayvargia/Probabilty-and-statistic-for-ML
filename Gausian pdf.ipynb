{
 "cells": [
  {
   "cell_type": "markdown",
   "metadata": {},
   "source": [
    "MVU estimator of natural parameter of Gassuian distribution using Maximum Likelihood Estimation.\n"
   ]
  },
  {
   "cell_type": "markdown",
   "metadata": {},
   "source": [
    "PDF of gassuian distribution is given by :\n",
    "$ P(x=k) = \\frac{1}{\\sqrt{2\\pi}\\sigma} e^{\\frac{-(k-\\mu)^2}{2\\sigma^2}}$\n",
    "\n",
    "$\\mu$ and $  \\sigma $ are the natural parameter of the gaussian distribution."
   ]
  },
  {
   "cell_type": "code",
   "execution_count": 1,
   "metadata": {},
   "outputs": [],
   "source": [
    "#step 1 we will import the library's which we will be needing for prooving are MVU estimator is true:\n",
    "import numpy as np\n",
    "import scipy.stats as s\n",
    "import matplotlib.pyplot as plt"
   ]
  },
  {
   "cell_type": "code",
   "execution_count": 2,
   "metadata": {},
   "outputs": [],
   "source": [
    "#step 2 :\n",
    "# We are taking 100 random samples of size 30 from the Gaussian distribtuted population\n",
    "Samples = np.random.normal(loc = 65.5 , scale = 5 ,size = (100,30))"
   ]
  },
  {
   "cell_type": "code",
   "execution_count": 3,
   "metadata": {},
   "outputs": [
    {
     "data": {
      "text/plain": [
       "array([[57.25571198, 71.22029028, 71.88841826, ..., 67.90222445,\n",
       "        66.57568574, 58.77744917],\n",
       "       [67.34655519, 61.41798622, 59.51041695, ..., 67.22021736,\n",
       "        67.97729226, 64.55784317],\n",
       "       [56.72532513, 56.44107103, 67.40406082, ..., 60.82523984,\n",
       "        71.98148394, 68.42774052],\n",
       "       ...,\n",
       "       [77.10062253, 67.16749749, 61.49847712, ..., 55.02744105,\n",
       "        60.28155576, 63.7219023 ],\n",
       "       [55.47595808, 65.49407429, 59.1844022 , ..., 62.84099801,\n",
       "        67.80866897, 65.63580971],\n",
       "       [65.40593409, 63.98607875, 68.76323278, ..., 71.15394038,\n",
       "        69.78340681, 72.45029845]])"
      ]
     },
     "execution_count": 3,
     "metadata": {},
     "output_type": "execute_result"
    }
   ],
   "source": [
    "#our samples from gaussian distributed population looks like:\n",
    "Samples"
   ]
  },
  {
   "cell_type": "code",
   "execution_count": 4,
   "metadata": {},
   "outputs": [
    {
     "data": {
      "text/plain": [
       "([array([ 0.,  0., 12., 11., 28., 16., 20., 11.,  2.,  0.]),\n",
       "  array([ 0.,  1.,  5.,  5., 31., 29., 22.,  5.,  2.,  0.]),\n",
       "  array([ 2.,  0.,  2., 11., 29., 30., 15., 11.,  0.,  0.]),\n",
       "  array([ 0.,  1.,  2., 12., 25., 28., 19.,  6.,  5.,  2.]),\n",
       "  array([ 0.,  0.,  9., 14., 24., 19., 22., 11.,  1.,  0.]),\n",
       "  array([ 0.,  1.,  5., 10., 21., 32., 25.,  5.,  1.,  0.]),\n",
       "  array([ 0.,  1.,  4., 17., 25., 20., 25.,  7.,  1.,  0.]),\n",
       "  array([ 0.,  0.,  4., 11., 27., 29., 23.,  3.,  3.,  0.]),\n",
       "  array([ 1.,  0.,  3., 11., 30., 27., 14., 11.,  3.,  0.]),\n",
       "  array([ 0.,  0.,  3., 15., 30., 31., 15.,  5.,  1.,  0.]),\n",
       "  array([ 0.,  1.,  4., 17., 22., 27., 17., 10.,  2.,  0.]),\n",
       "  array([ 0.,  1.,  6., 25., 28., 18., 15.,  5.,  2.,  0.]),\n",
       "  array([ 0.,  1.,  8., 12., 24., 21., 23.,  9.,  1.,  1.]),\n",
       "  array([ 0.,  0.,  4., 14., 24., 26., 19., 12.,  1.,  0.]),\n",
       "  array([ 0.,  2.,  3., 13., 27., 20., 21., 10.,  3.,  1.]),\n",
       "  array([ 0.,  1.,  3., 14., 25., 32., 15.,  6.,  4.,  0.]),\n",
       "  array([ 0.,  3.,  5., 16., 18., 31., 21.,  4.,  2.,  0.]),\n",
       "  array([ 0.,  1.,  4., 15., 21., 26., 20., 10.,  1.,  2.]),\n",
       "  array([ 1.,  1.,  4., 14., 30., 21., 19.,  7.,  3.,  0.]),\n",
       "  array([ 1.,  0.,  4.,  6., 16., 37., 16., 18.,  1.,  1.]),\n",
       "  array([ 0.,  4.,  6., 11., 30., 21., 19.,  6.,  2.,  1.]),\n",
       "  array([ 0.,  0.,  1., 20., 30., 21., 16., 11.,  1.,  0.]),\n",
       "  array([ 0.,  3.,  5.,  8., 20., 28., 20., 12.,  4.,  0.]),\n",
       "  array([ 0.,  1.,  6., 15., 23., 35., 16.,  4.,  0.,  0.]),\n",
       "  array([ 0.,  1.,  3., 10., 31., 24., 22.,  7.,  2.,  0.]),\n",
       "  array([ 0.,  2.,  3.,  9., 29., 24., 19., 12.,  2.,  0.]),\n",
       "  array([ 0.,  1.,  3., 13., 18., 35., 20.,  9.,  1.,  0.]),\n",
       "  array([ 0.,  1.,  4., 12., 25., 23., 23.,  9.,  3.,  0.]),\n",
       "  array([ 0.,  0.,  4., 10., 22., 34., 15., 13.,  2.,  0.]),\n",
       "  array([ 0.,  0.,  5., 13., 24., 19., 25., 11.,  3.,  0.])],\n",
       " array([46.44315096, 50.04959022, 53.65602948, 57.26246873, 60.86890799,\n",
       "        64.47534725, 68.08178651, 71.68822576, 75.29466502, 78.90110428,\n",
       "        82.50754354]),\n",
       " <a list of 30 Lists of Patches objects>)"
      ]
     },
     "execution_count": 4,
     "metadata": {},
     "output_type": "execute_result"
    },
    {
     "data": {
      "image/png": "[encoded data removed]",
      "text/plain": [
       "<Figure size 432x288 with 1 Axes>"
      ]
     },
     "metadata": {
      "needs_background": "light"
     },
     "output_type": "display_data"
    }
   ],
   "source": [
    "#Ploting a histogram for our samples:\n",
    "plt.hist(Samples)"
   ]
  },
  {
   "cell_type": "markdown",
   "metadata": {},
   "source": [
    "Above graph represent the Guassian Distribution"
   ]
  },
  {
   "cell_type": "markdown",
   "metadata": {},
   "source": [
    "We know that the MLE(Maximum Livelihood Estimator) of mean natural parameter of Gausian probabilty distribution is SAMPLE MEAN i.e.\n"
   ]
  },
  {
   "cell_type": "markdown",
   "metadata": {},
   "source": [
    "$ \\mu_{ml}  = \\sum_{i=1}^{N} \\frac{x_i}{N} $"
   ]
  },
  {
   "cell_type": "markdown",
   "metadata": {},
   "source": [
    "So lets prove it practically.\n",
    "We took are mean = 65.5, so by using MVU esimator our result also should be approximately equal to our theoritcal mean.\n",
    "\n",
    "Let's check it out:"
   ]
  },
  {
   "cell_type": "code",
   "execution_count": 5,
   "metadata": {},
   "outputs": [],
   "source": [
    "#taking mean of our samples\n",
    "sample_mean = np.mean(Samples , axis = 1)"
   ]
  },
  {
   "cell_type": "code",
   "execution_count": 6,
   "metadata": {},
   "outputs": [
    {
     "data": {
      "text/plain": [
       "array([64.69854781, 64.73283173, 64.81771484, 67.03752277, 65.19850285,\n",
       "       65.27102811, 64.8436976 , 65.39154776, 65.07418382, 65.32921513,\n",
       "       64.10962291, 65.8613535 , 65.73730221, 66.4164123 , 66.99549663,\n",
       "       62.80320917, 65.01208281, 65.23949004, 65.39388435, 64.87669745,\n",
       "       64.99056264, 64.29861845, 65.20600252, 65.83772899, 65.18118258,\n",
       "       64.57611652, 66.314306  , 66.38576465, 66.33465846, 63.7122385 ,\n",
       "       66.16609195, 65.24904597, 64.91148574, 63.8666419 , 64.55673782,\n",
       "       65.25837294, 66.71778686, 65.75986811, 65.35739019, 63.29578618,\n",
       "       66.17388102, 64.86142599, 66.09545466, 66.09438307, 66.54301946,\n",
       "       67.27593582, 64.17380057, 65.44051651, 64.44654572, 67.25505867,\n",
       "       66.17348453, 65.64205493, 65.78122227, 66.5467461 , 65.94139948,\n",
       "       65.09813236, 64.16823136, 67.58493014, 66.37051605, 64.49266419,\n",
       "       64.26267303, 64.28213999, 65.27840005, 65.54922069, 64.42568841,\n",
       "       65.30135777, 66.53901286, 65.26518471, 66.62840174, 66.06776323,\n",
       "       65.76990245, 64.54726441, 65.61038333, 66.1393378 , 64.92439738,\n",
       "       64.64212943, 66.08850615, 66.12402662, 66.22602442, 66.85557753,\n",
       "       64.38099388, 64.73380949, 64.28620297, 65.42323044, 65.57898339,\n",
       "       65.86638478, 65.1997296 , 64.26714708, 66.06224473, 63.60452762,\n",
       "       65.63916133, 64.26781771, 65.67309065, 65.09198796, 63.42538117,\n",
       "       64.21110697, 66.6317709 , 64.56140639, 65.37355541, 66.03766359])"
      ]
     },
     "execution_count": 6,
     "metadata": {},
     "output_type": "execute_result"
    }
   ],
   "source": [
    "sample_mean"
   ]
  },
  {
   "cell_type": "code",
   "execution_count": 7,
   "metadata": {},
   "outputs": [
    {
     "data": {
      "text/plain": [
       "(array([ 1.,  4.,  5., 16., 14., 22., 17., 13.,  5.,  3.]),\n",
       " array([62.80320917, 63.28138127, 63.75955337, 64.23772546, 64.71589756,\n",
       "        65.19406966, 65.67224175, 66.15041385, 66.62858595, 67.10675804,\n",
       "        67.58493014]),\n",
       " <a list of 10 Patch objects>)"
      ]
     },
     "execution_count": 7,
     "metadata": {},
     "output_type": "execute_result"
    },
    {
     "data": {
      "image/png": "[encoded data removed]",
      "text/plain": [
       "<Figure size 432x288 with 1 Axes>"
      ]
     },
     "metadata": {
      "needs_background": "light"
     },
     "output_type": "display_data"
    }
   ],
   "source": [
    "plt.hist(sample_mean)"
   ]
  },
  {
   "cell_type": "code",
   "execution_count": 8,
   "metadata": {},
   "outputs": [],
   "source": [
    "best_estimate = np.mean(sample_mean)"
   ]
  },
  {
   "cell_type": "code",
   "execution_count": 9,
   "metadata": {},
   "outputs": [
    {
     "data": {
      "text/plain": [
       "65.35819721723132"
      ]
     },
     "execution_count": 9,
     "metadata": {},
     "output_type": "execute_result"
    }
   ],
   "source": [
    "best_estimate"
   ]
  },
  {
   "cell_type": "markdown",
   "metadata": {},
   "source": [
    "So we can that Best estimate is approximately equal to our theoritcal mean.\n",
    "And we can also say that are Best estimate is unbiased.\n"
   ]
  },
  {
   "cell_type": "code",
   "execution_count": null,
   "metadata": {},
   "outputs": [],
   "source": []
  }
 ],
 "metadata": {
  "kernelspec": {
   "display_name": "Python 3",
   "language": "python",
   "name": "python3"
  },
  "language_info": {
   "codemirror_mode": {
    "name": "ipython",
    "version": 3
   },
   "file_extension": ".py",
   "mimetype": "text/x-python",
   "name": "python",
   "nbconvert_exporter": "python",
   "pygments_lexer": "ipython3",
   "version": "3.7.0"
  }
 },
 "nbformat": 4,
 "nbformat_minor": 2
}
