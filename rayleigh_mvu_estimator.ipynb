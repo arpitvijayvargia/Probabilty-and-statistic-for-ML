{
 "cells": [
  {
   "cell_type": "markdown",
   "metadata": {},
   "source": [
    "Here we are trying to prove that the Minimum Variance Unbiased Estimator for Rayleigh Distribution given by the formula : \n",
    " \n",
    " $ P(X=k) = \\frac{k}{\\sigma^2}e^\\frac{-k}{2\\sigma^2} $\n",
    " \n",
    "is given by :   $ \\sigma ml = \\sqrt {\\frac{\\sum Xi^2}{2N}}   $\n",
    " \n",
    "Where N is the number of samples."
   ]
  },
  {
   "cell_type": "code",
   "execution_count": 1,
   "metadata": {},
   "outputs": [],
   "source": [
    "import numpy as np\n",
    "import scipy.stats as s\n",
    "import matplotlib.pyplot as plt"
   ]
  },
  {
   "cell_type": "code",
   "execution_count": 2,
   "metadata": {},
   "outputs": [],
   "source": [
    "samples = np.random.rayleigh(50, size=(100,50))"
   ]
  },
  {
   "cell_type": "code",
   "execution_count": 3,
   "metadata": {},
   "outputs": [
    {
     "data": {
      "text/plain": [
       "array([[ 74.95152516,  51.98709577,  93.330849  , ...,  42.49315645,\n",
       "         81.01238539,  18.54173319],\n",
       "       [ 18.97725928, 141.6103278 ,  24.78905735, ...,  80.25153031,\n",
       "         35.7547285 ,  25.89940302],\n",
       "       [ 73.09001696,  41.374824  ,  33.10570316, ...,  72.44463411,\n",
       "         57.70965612, 103.84799878],\n",
       "       ...,\n",
       "       [ 37.00011082,  39.5960966 , 138.26994539, ...,  59.563211  ,\n",
       "         11.36436552,  39.67121491],\n",
       "       [136.75018503,  18.36780563,  87.97641679, ...,  88.47258512,\n",
       "         59.46974063,  65.69767331],\n",
       "       [ 36.67996751,  61.2831956 , 142.28295161, ...,  29.83091131,\n",
       "         44.50096403,  53.21130667]])"
      ]
     },
     "execution_count": 3,
     "metadata": {},
     "output_type": "execute_result"
    }
   ],
   "source": [
    "samples"
   ]
  },
  {
   "cell_type": "code",
   "execution_count": 5,
   "metadata": {},
   "outputs": [],
   "source": [
    "squared_sample_value = samples**2\n",
    "    \n",
    "    "
   ]
  },
  {
   "cell_type": "code",
   "execution_count": 6,
   "metadata": {},
   "outputs": [],
   "source": [
    "sample_mean = np.mean(squared_sample_value, axis=1)"
   ]
  },
  {
   "cell_type": "code",
   "execution_count": 8,
   "metadata": {},
   "outputs": [],
   "source": [
    "sample_mean = sample_mean/2"
   ]
  },
  {
   "cell_type": "code",
   "execution_count": 9,
   "metadata": {},
   "outputs": [],
   "source": [
    "mvu_estimator_values = np.sqrt(sample_mean)"
   ]
  },
  {
   "cell_type": "code",
   "execution_count": 10,
   "metadata": {},
   "outputs": [
    {
     "data": {
      "text/plain": [
       "array([43.1839404 , 50.19689469, 50.78626968, 51.10476935, 45.96535678,\n",
       "       49.64105968, 51.19824633, 52.50977338, 53.5050639 , 47.90803922,\n",
       "       52.6184191 , 54.83194779, 48.47756131, 53.0424684 , 53.73990467,\n",
       "       46.66199848, 56.59994546, 51.24679961, 49.20027698, 56.29231258,\n",
       "       50.81612423, 48.62327345, 44.45681671, 55.45075283, 52.26535832,\n",
       "       52.18984328, 49.85228673, 46.90944648, 45.46600449, 58.09050953,\n",
       "       52.63473474, 47.86776513, 52.43880103, 45.13506786, 43.24601799,\n",
       "       53.07511791, 47.40613277, 51.649146  , 49.79365465, 48.19441958,\n",
       "       51.57154246, 51.45478987, 53.90988627, 49.97689963, 51.14895246,\n",
       "       47.9414069 , 44.93694211, 51.84213259, 57.55639307, 45.77690228,\n",
       "       49.84784606, 49.82566013, 45.97309982, 51.37007507, 54.16215391,\n",
       "       45.6821423 , 52.73046038, 55.62824816, 51.50719917, 47.42176747,\n",
       "       49.02526417, 54.84340069, 49.02260517, 52.27077876, 44.41014516,\n",
       "       46.57645047, 44.19417329, 45.03360035, 49.4533154 , 51.42479078,\n",
       "       53.93869304, 53.60530248, 42.17351518, 46.03761288, 53.7165338 ,\n",
       "       51.35215357, 52.72375895, 50.5613755 , 50.44563245, 50.58287786,\n",
       "       50.05180128, 47.60413561, 48.6744616 , 47.92868993, 56.7786377 ,\n",
       "       44.8063732 , 49.99496355, 45.9040084 , 54.77862784, 49.49008553,\n",
       "       43.351069  , 46.02824565, 44.97406298, 54.35944374, 55.46599985,\n",
       "       49.85763415, 45.49852649, 46.09245513, 49.85657332, 52.32412664])"
      ]
     },
     "execution_count": 10,
     "metadata": {},
     "output_type": "execute_result"
    }
   ],
   "source": [
    "mvu_estimator_values"
   ]
  },
  {
   "cell_type": "code",
   "execution_count": 11,
   "metadata": {},
   "outputs": [
    {
     "data": {
      "text/plain": [
       "(array([ 4.,  8., 13.,  9., 17., 17., 13., 11.,  4.,  4.]),\n",
       " array([42.17351518, 43.76521462, 45.35691405, 46.94861349, 48.54031292,\n",
       "        50.13201236, 51.72371179, 53.31541123, 54.90711066, 56.4988101 ,\n",
       "        58.09050953]),\n",
       " <a list of 10 Patch objects>)"
      ]
     },
     "execution_count": 11,
     "metadata": {},
     "output_type": "execute_result"
    },
    {
     "data": {
      "image/png": "[encoded data removed]",
      "text/plain": [
       "<Figure size 432x288 with 1 Axes>"
      ]
     },
     "metadata": {
      "needs_background": "light"
     },
     "output_type": "display_data"
    }
   ],
   "source": [
    "plt.hist(mvu_estimator_values)"
   ]
  },
  {
   "cell_type": "code",
   "execution_count": 12,
   "metadata": {},
   "outputs": [],
   "source": [
    "best_estimate = np.mean(mvu_estimator_values)"
   ]
  },
  {
   "cell_type": "code",
   "execution_count": 13,
   "metadata": {},
   "outputs": [
    {
     "data": {
      "text/plain": [
       "49.99748723143139"
      ]
     },
     "execution_count": 13,
     "metadata": {},
     "output_type": "execute_result"
    }
   ],
   "source": [
    "best_estimate"
   ]
  },
  {
   "cell_type": "code",
   "execution_count": null,
   "metadata": {},
   "outputs": [],
   "source": []
  },
  {
   "cell_type": "code",
   "execution_count": null,
   "metadata": {},
   "outputs": [],
   "source": []
  },
  {
   "cell_type": "code",
   "execution_count": null,
   "metadata": {},
   "outputs": [],
   "source": []
  },
  {
   "cell_type": "code",
   "execution_count": null,
   "metadata": {},
   "outputs": [],
   "source": []
  },
  {
   "cell_type": "code",
   "execution_count": null,
   "metadata": {},
   "outputs": [],
   "source": []
  },
  {
   "cell_type": "code",
   "execution_count": null,
   "metadata": {},
   "outputs": [],
   "source": []
  },
  {
   "cell_type": "markdown",
   "metadata": {},
   "source": []
  },
  {
   "cell_type": "code",
   "execution_count": null,
   "metadata": {},
   "outputs": [],
   "source": []
  },
  {
   "cell_type": "code",
   "execution_count": null,
   "metadata": {},
   "outputs": [],
   "source": []
  }
 ],
 "metadata": {
  "kernelspec": {
   "display_name": "Python 3",
   "language": "python",
   "name": "python3"
  },
  "language_info": {
   "codemirror_mode": {
    "name": "ipython",
    "version": 3
   },
   "file_extension": ".py",
   "mimetype": "text/x-python",
   "name": "python",
   "nbconvert_exporter": "python",
   "pygments_lexer": "ipython3",
   "version": "3.7.0"
  }
 },
 "nbformat": 4,
 "nbformat_minor": 2
}
