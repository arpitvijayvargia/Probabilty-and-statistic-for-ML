{
 "cells": [
  {
   "cell_type": "markdown",
   "metadata": {},
   "source": [
    "We are trying to prove that the Minimum Variance Estimator of the mean of a Poisson Distribution is mean. The probability distribution of a Poisson Distributed population is given by :\n",
    "\n",
    " $ P(X=k) = \\frac {{\\mu^k}{e^-\\mu}}{k!} $"
   ]
  },
  {
   "cell_type": "code",
   "execution_count": 2,
   "metadata": {},
   "outputs": [],
   "source": [
    "import numpy as np\n",
    "import scipy.stats as s\n",
    "import matplotlib.pyplot as plt"
   ]
  },
  {
   "cell_type": "code",
   "execution_count": 16,
   "metadata": {},
   "outputs": [],
   "source": [
    "samples = np.random.poisson(lam=5.0, size=(1000,10))"
   ]
  },
  {
   "cell_type": "code",
   "execution_count": 26,
   "metadata": {},
   "outputs": [
    {
     "data": {
      "text/plain": [
       "([array([ 32.,  82., 298., 168., 275.,  72.,  62.,  10.,   1.,   0.]),\n",
       "  array([ 37.,  84., 302., 179., 250.,  75.,  63.,   6.,   2.,   2.]),\n",
       "  array([ 41.,  76., 289., 185., 269.,  76.,  47.,  12.,   2.,   3.]),\n",
       "  array([ 34.,  81., 315., 172., 262.,  74.,  48.,   9.,   3.,   2.]),\n",
       "  array([ 43.,  84., 334., 191., 220.,  65.,  51.,  10.,   2.,   0.]),\n",
       "  array([ 43.,  87., 319., 185., 231.,  63.,  61.,   5.,   6.,   0.]),\n",
       "  array([ 43.,  85., 311., 163., 255.,  76.,  54.,   9.,   2.,   2.]),\n",
       "  array([ 61.,  81., 318., 174., 232.,  61.,  51.,  16.,   6.,   0.]),\n",
       "  array([ 43.,  82., 310., 176., 258.,  65.,  49.,   8.,   9.,   0.]),\n",
       "  array([ 44.,  77., 346., 174., 229.,  66.,  50.,  10.,   4.,   0.])],\n",
       " array([ 0. ,  1.5,  3. ,  4.5,  6. ,  7.5,  9. , 10.5, 12. , 13.5, 15. ]),\n",
       " <a list of 10 Lists of Patches objects>)"
      ]
     },
     "execution_count": 26,
     "metadata": {},
     "output_type": "execute_result"
    },
    {
     "data": {
      "image/png": "[encoded data removed]",
      "text/plain": [
       "<Figure size 432x288 with 1 Axes>"
      ]
     },
     "metadata": {
      "needs_background": "light"
     },
     "output_type": "display_data"
    }
   ],
   "source": [
    "plt.hist(samples)"
   ]
  },
  {
   "cell_type": "code",
   "execution_count": 17,
   "metadata": {},
   "outputs": [
    {
     "data": {
      "text/plain": [
       "array([[7, 4, 4, ..., 7, 9, 4],\n",
       "       [4, 1, 6, ..., 6, 7, 6],\n",
       "       [5, 7, 5, ..., 8, 2, 5],\n",
       "       ...,\n",
       "       [4, 5, 3, ..., 2, 6, 5],\n",
       "       [5, 7, 4, ..., 6, 5, 5],\n",
       "       [3, 8, 8, ..., 5, 7, 7]])"
      ]
     },
     "execution_count": 17,
     "metadata": {},
     "output_type": "execute_result"
    }
   ],
   "source": [
    "samples"
   ]
  },
  {
   "cell_type": "code",
   "execution_count": 20,
   "metadata": {},
   "outputs": [],
   "source": [
    "samplemeans = np.mean(samples, axis=1)"
   ]
  },
  {
   "cell_type": "code",
   "execution_count": 21,
   "metadata": {},
   "outputs": [
    {
     "data": {
      "text/plain": [
       "(array([  4.,   9.,  71., 169., 281., 246., 150.,  54.,  11.,   5.]),\n",
       " array([2.6 , 3.09, 3.58, 4.07, 4.56, 5.05, 5.54, 6.03, 6.52, 7.01, 7.5 ]),\n",
       " <a list of 10 Patch objects>)"
      ]
     },
     "execution_count": 21,
     "metadata": {},
     "output_type": "execute_result"
    },
    {
     "data": {
      "image/png": "[encoded data removed]",
      "text/plain": [
       "<Figure size 432x288 with 1 Axes>"
      ]
     },
     "metadata": {
      "needs_background": "light"
     },
     "output_type": "display_data"
    }
   ],
   "source": [
    "plt.hist(samplemeans)"
   ]
  },
  {
   "cell_type": "code",
   "execution_count": 22,
   "metadata": {},
   "outputs": [],
   "source": [
    "best_estimate = np.mean(samplemeans)"
   ]
  },
  {
   "cell_type": "code",
   "execution_count": 23,
   "metadata": {},
   "outputs": [
    {
     "data": {
      "text/plain": [
       "5.013599999999999"
      ]
     },
     "execution_count": 23,
     "metadata": {},
     "output_type": "execute_result"
    }
   ],
   "source": [
    "best_estimate"
   ]
  },
  {
   "cell_type": "markdown",
   "metadata": {},
   "source": [
    "Hence it is proved that mvu estimator of a possion distributed random variable is the sample mean."
   ]
  },
  {
   "cell_type": "code",
   "execution_count": null,
   "metadata": {},
   "outputs": [],
   "source": []
  },
  {
   "cell_type": "code",
   "execution_count": null,
   "metadata": {},
   "outputs": [],
   "source": []
  }
 ],
 "metadata": {
  "kernelspec": {
   "display_name": "Python 3",
   "language": "python",
   "name": "python3"
  },
  "language_info": {
   "codemirror_mode": {
    "name": "ipython",
    "version": 3
   },
   "file_extension": ".py",
   "mimetype": "text/x-python",
   "name": "python",
   "nbconvert_exporter": "python",
   "pygments_lexer": "ipython3",
   "version": "3.7.0"
  }
 },
 "nbformat": 4,
 "nbformat_minor": 2
}
